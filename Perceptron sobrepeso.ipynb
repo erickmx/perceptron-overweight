{
 "cells": [
  {
   "cell_type": "markdown",
   "metadata": {},
   "source": [
    "# Actividad 03 - Perceptrón: Aprendiendo el concepto de Sobrepeso"
   ]
  },
  {
   "cell_type": "markdown",
   "metadata": {},
   "source": [
    "**Centro Universitario de Ciencias Exactas e Ingenierías**\\\n",
    "**Materia** Inteligencia artificial 2\\\n",
    "**Nombre:** Mejia Blanco Erick\\\n",
    "**Código:** 211408613"
   ]
  },
  {
   "cell_type": "code",
   "execution_count": 23,
   "metadata": {},
   "outputs": [],
   "source": [
    "%matplotlib inline\n",
    "import numpy as np\n",
    "import matplotlib.pyplot as plt"
   ]
  },
  {
   "cell_type": "markdown",
   "metadata": {},
   "source": [
    "### Algoritmo del perceptron"
   ]
  },
  {
   "cell_type": "code",
   "execution_count": 24,
   "metadata": {},
   "outputs": [],
   "source": [
    "def perceptron(x, y, w, b, eta, epochs, samples):\n",
    "    correct = 0\n",
    "    iters = 0\n",
    "    y_pred = 0\n",
    "    z = None\n",
    "    while correct is not samples and iters < epochs:\n",
    "        correct = 0\n",
    "        iters += 1\n",
    "        for i in range(samples):\n",
    "            # Prediction\n",
    "            z = (w.conj().T @ x[:,i] + b).sum()\n",
    "            if z > 0:\n",
    "                y_pred = 1\n",
    "            else:\n",
    "                y_pred = 0\n",
    "            #training\n",
    "            if y[i] == y_pred:\n",
    "                correct += 1\n",
    "            else:\n",
    "                w = w + (eta * (y[i] - y_pred) * x[:, i].reshape(2,1))\n",
    "                b = b + eta * (y[i] - y_pred)\n",
    "    print('iteraciones', iters, 'correctos', correct)\n",
    "    return [w, b]"
   ]
  },
  {
   "cell_type": "markdown",
   "metadata": {},
   "source": [
    "### Funcion para escalar datos"
   ]
  },
  {
   "cell_type": "code",
   "execution_count": 25,
   "metadata": {},
   "outputs": [],
   "source": [
    "def scale(x):\n",
    "    return [(x_i - np.mean(x_i))/np.std(x) for x_i in x]\n",
    "    # return [(x_i - np.min(x_i))/(np.max(x_i)-np.min(x_i)) for x_i in x]"
   ]
  },
  {
   "cell_type": "code",
   "execution_count": 26,
   "metadata": {},
   "outputs": [
    {
     "data": {
      "text/plain": [
       "array([[ 86.53466536,  53.24225919, 119.07781791, 110.84549053,\n",
       "         49.56204789,  72.47621984, 108.1347924 ,  55.54027926,\n",
       "        148.21546527,  99.14217637,  83.59106784,  64.00158448,\n",
       "         72.66997366, 128.49928017,  52.90948634, 113.44805863,\n",
       "         91.10997265, 115.52116807, 129.53330611, 122.16074192,\n",
       "        108.68747868, 117.21561849, 130.72025   , 135.13176775,\n",
       "        136.68026594, 135.79607647, 123.52461977, 112.29994042,\n",
       "         78.82819062,  68.19204605,  84.86049559, 107.24510621,\n",
       "        149.89027699,  43.60368756, 121.79729234,  80.98463161,\n",
       "        142.99278463, 116.46789947,  51.23487086,  71.12596516,\n",
       "        105.07962049, 130.97302188, 121.69132517,  61.56410936,\n",
       "         66.50732987,  74.5268556 , 125.85828803,  70.78661605,\n",
       "        123.64746751,  48.17478603,  71.868807  , 105.90820316,\n",
       "        123.1082307 ,  50.211622  , 110.86140821,  78.69056967,\n",
       "        103.44113195,  46.09704856,  59.01927996,  44.71749742,\n",
       "         89.7327318 ,  60.55521834,  93.29767412,  61.20703905,\n",
       "        117.51777122,  44.95162131,  83.79759458, 149.96905209,\n",
       "         67.32463672,  91.41090506,  92.21139544, 106.47222398,\n",
       "        110.97840164,  98.32666501, 120.33418007],\n",
       "       [192.06630086, 139.00142264, 111.33685954, 116.47380765,\n",
       "        111.21033695, 126.05947501, 136.14868925, 104.73045436,\n",
       "        115.77945888, 160.27609561, 187.83138069, 168.14103708,\n",
       "        123.32113647, 120.46775566, 150.4864045 , 156.03280376,\n",
       "        155.19510314, 117.50492686, 160.07548268, 199.41856325,\n",
       "        144.30823023, 125.08959295, 163.86428069, 197.62102942,\n",
       "        184.03586222, 157.65859103, 105.34763814, 195.0881303 ,\n",
       "        152.5891031 , 143.09210601, 121.83779203, 148.4742514 ,\n",
       "        106.37572411, 194.63275445, 151.58297645, 196.54828392,\n",
       "        181.57062078, 189.56909787, 146.48683923, 151.27339549,\n",
       "        161.91739362, 141.04007344, 103.2675926 , 186.91274849,\n",
       "        182.79147163, 134.23221648, 153.53342523, 182.27356029,\n",
       "        109.1729856 , 186.00247421, 158.55937718, 124.71768272,\n",
       "        108.8659025 , 118.5428633 , 108.35013101, 125.87027812,\n",
       "        185.52645566, 119.77268709, 127.24999632, 156.36648526,\n",
       "        110.52633997, 121.80102299, 183.28791436, 152.98830766,\n",
       "        117.49527012, 175.56931342, 109.77506052, 187.15262624,\n",
       "        163.36635413, 182.35579087, 141.07170135, 168.17900748,\n",
       "        173.66132783, 100.50983191, 175.46112345]])"
      ]
     },
     "execution_count": 26,
     "metadata": {},
     "output_type": "execute_result"
    }
   ],
   "source": [
    "samples = 75\n",
    "epochs = 1000\n",
    "min_weigth = 40\n",
    "max_weigth = 150\n",
    "min_heigth = 100\n",
    "max_heigth = 200\n",
    "weigths = min_weigth + (max_weigth - min_weigth) * np.random.rand(samples)\n",
    "heigths = min_heigth + (max_heigth - min_heigth) * np.random.rand(samples)\n",
    "# x = np.column_stack((weigths, heigths))\n",
    "# x\n",
    "x = np.array([weigths, heigths])\n",
    "x"
   ]
  },
  {
   "cell_type": "code",
   "execution_count": 27,
   "metadata": {},
   "outputs": [
    {
     "data": {
      "text/plain": [
       "array([0, 1, 1, 1, 1, 1, 1, 1, 1, 1, 0, 0, 1, 1, 0, 1, 1, 1, 1, 1, 1, 1,\n",
       "       1, 1, 1, 1, 1, 1, 1, 1, 1, 1, 1, 0, 1, 0, 1, 1, 0, 1, 1, 1, 1, 0,\n",
       "       0, 1, 1, 0, 1, 0, 1, 1, 1, 1, 1, 1, 1, 1, 1, 0, 1, 1, 1, 1, 1, 0,\n",
       "       1, 1, 1, 1, 1, 1, 1, 1, 1])"
      ]
     },
     "execution_count": 27,
     "metadata": {},
     "output_type": "execute_result"
    }
   ],
   "source": [
    "# y = np.array([1 if (person[0]/((person[1]/100)**2)) < 25 else -1 for person in x])\n",
    "y = np.array([1 if (person[0]/((person[1]/100)**2)) > 25 else 0 for person in x.T])\n",
    "y"
   ]
  },
  {
   "cell_type": "code",
   "execution_count": 28,
   "metadata": {},
   "outputs": [
    {
     "data": {
      "text/plain": [
       "array([[ 48.42648122],\n",
       "       [100.66885649]])"
      ]
     },
     "execution_count": 28,
     "metadata": {},
     "output_type": "execute_result"
    }
   ],
   "source": [
    "w_weigths = min_weigth + (max_weigth - min_weigth) * np.random.rand()\n",
    "w_heigths = min_heigth + (max_heigth - min_heigth) * np.random.rand()\n",
    "w = np.array([[w_weigths], [w_heigths]])\n",
    "w"
   ]
  },
  {
   "cell_type": "code",
   "execution_count": 29,
   "metadata": {},
   "outputs": [
    {
     "data": {
      "text/plain": [
       "7.643134209887192"
      ]
     },
     "execution_count": 29,
     "metadata": {},
     "output_type": "execute_result"
    }
   ],
   "source": [
    "b = 0 + (100 - 0) * np.random.rand()\n",
    "b"
   ]
  },
  {
   "cell_type": "code",
   "execution_count": 30,
   "metadata": {},
   "outputs": [
    {
     "data": {
      "text/plain": [
       "0.5"
      ]
     },
     "execution_count": 30,
     "metadata": {},
     "output_type": "execute_result"
    }
   ],
   "source": [
    "eta = 0.5\n",
    "eta"
   ]
  },
  {
   "cell_type": "code",
   "execution_count": 31,
   "metadata": {},
   "outputs": [
    {
     "data": {
      "image/png": "[encoded data removed]",
      "text/plain": [
       "<Figure size 432x288 with 1 Axes>"
      ]
     },
     "metadata": {
      "needs_background": "light"
     },
     "output_type": "display_data"
    }
   ],
   "source": [
    "plt.title(\"Valores Iniciales\")\n",
    "plt.grid(True)\n",
    "# plt.plot(x, '.r')\n",
    "# plt.plot(x[0],x[1],'.r')\n",
    "plt.plot(x[0][y == 0], x[1][y == 0], '*b')\n",
    "plt.plot(x[0][y == 1], x[1][y == 1], '.r')\n",
    "plt.plot([-100,220],[(-w[0]/w[1])*(-100)-(b/w[1]),(-w[0]/w[1])*(220)-(b/w[0])],'-m')\n",
    "plt.xlim(-100, 220)\n",
    "plt.ylim(-100, 220)\n",
    "plt.xlabel(\"Peso\")\n",
    "plt.ylabel(\"Altura\")\n",
    "plt.show()"
   ]
  },
  {
   "cell_type": "code",
   "execution_count": 32,
   "metadata": {},
   "outputs": [
    {
     "name": "stdout",
     "output_type": "stream",
     "text": [
      "iteraciones 1000 correctos 70\n"
     ]
    }
   ],
   "source": [
    "# w_res, b_res = perceptron(x.T,y,w,b,eta,1000, samples)\n",
    "w_res, b_res = perceptron(x,y,w,b,eta,epochs, samples)"
   ]
  },
  {
   "cell_type": "code",
   "execution_count": 33,
   "metadata": {},
   "outputs": [
    {
     "data": {
      "text/plain": [
       "array([[ 911.47660171],\n",
       "       [-312.44419389]])"
      ]
     },
     "execution_count": 33,
     "metadata": {},
     "output_type": "execute_result"
    }
   ],
   "source": [
    "w_res"
   ]
  },
  {
   "cell_type": "code",
   "execution_count": 34,
   "metadata": {},
   "outputs": [
    {
     "data": {
      "text/plain": [
       "507.6431342098872"
      ]
     },
     "execution_count": 34,
     "metadata": {},
     "output_type": "execute_result"
    }
   ],
   "source": [
    "b_res"
   ]
  },
  {
   "cell_type": "code",
   "execution_count": 35,
   "metadata": {},
   "outputs": [
    {
     "data": {
      "image/png": "[encoded data removed]",
      "text/plain": [
       "<Figure size 432x288 with 1 Axes>"
      ]
     },
     "metadata": {
      "needs_background": "light"
     },
     "output_type": "display_data"
    }
   ],
   "source": [
    "plt.title(\"Resultado\")\n",
    "plt.grid(True)\n",
    "# plt.plot(x,'.r')\n",
    "# plt.plot(x[0],x[1], '.r')\n",
    "plt.plot(x[0][y == 0], x[1][y == 0], '*b')\n",
    "plt.plot(x[0][y == 1], x[1][y == 1], '.r')\n",
    "plt.plot([0,220],[(-w_res[0]/w_res[1])*(0)-(b_res/w_res[1]),(-w_res[0]/w_res[1])*(220)-(b_res/w_res[1])],'-m')\n",
    "plt.xlim(0, 220)\n",
    "plt.ylim(0, 220)\n",
    "plt.xlabel(\"Peso\")\n",
    "plt.ylabel(\"Altura\")\n",
    "plt.show()"
   ]
  },
  {
   "cell_type": "markdown",
   "metadata": {},
   "source": [
    "# Datos escalados"
   ]
  },
  {
   "cell_type": "code",
   "execution_count": 36,
   "metadata": {
    "scrolled": true
   },
   "outputs": [
    {
     "data": {
      "text/plain": [
       "array([[-0.2036766 , -1.03166981,  0.60568242,  0.40094171, -1.12319788,\n",
       "        -0.55331481,  0.33352574, -0.97451728,  1.3303454 ,  0.10987639,\n",
       "        -0.27688485, -0.76408181, -0.54849609,  0.83999732, -1.03994598,\n",
       "         0.46566844, -0.08988718,  0.51722736,  0.86571389,  0.68235577,\n",
       "         0.34727123,  0.55936891,  0.89523358,  1.00494949,  1.04346116,\n",
       "         1.02147107,  0.71627587,  0.43711436, -0.39533919, -0.65986364,\n",
       "        -0.24531376,  0.31139895,  1.37199853, -1.27138429,  0.67331666,\n",
       "        -0.34170778,  1.2004556 ,  0.54077289, -1.08159422, -0.58689609,\n",
       "         0.2575426 ,  0.9015201 ,  0.67068122, -0.82470263, -0.70176309,\n",
       "        -0.50231482,  0.77431497, -0.59533582,  0.71933113, -1.15769955,\n",
       "        -0.56842137,  0.27814973,  0.70592013, -1.10704276,  0.40133758,\n",
       "        -0.39876186,  0.21679285, -1.20937357, -0.88799338, -1.24368347,\n",
       "        -0.12413962, -0.84979408, -0.03547832, -0.83358308,  0.56688355,\n",
       "        -1.23786073, -0.27174846,  1.37395769, -0.6814364 , -0.08240289,\n",
       "        -0.06249443,  0.29217711,  0.40424725,  0.08959435,  0.63692857],\n",
       "       [ 1.08043422, -0.23930694, -0.92733383, -0.79957622, -0.93048048,\n",
       "        -0.56117748, -0.31025537, -1.09163732, -0.8168449 ,  0.28980124,\n",
       "         0.97511034,  0.48540495, -0.62928087, -0.7002454 ,  0.04632837,\n",
       "         0.18426917,  0.16343527, -0.77393194,  0.28481193,  1.26328743,\n",
       "        -0.10732488, -0.58529877,  0.3790406 ,  1.21858216,  0.88071454,\n",
       "         0.22470304, -1.07628775,  1.15558812,  0.09862319, -0.13757029,\n",
       "        -0.66617214, -0.00371454, -1.05071891,  1.14426277,  0.07360048,\n",
       "         1.19190263,  0.81940316,  1.01832795, -0.05314215,  0.0659011 ,\n",
       "         0.33062087, -0.18860502, -1.12801918,  0.95226366,  0.84976613,\n",
       "        -0.35791869,  0.12210879,  0.8368855 , -0.98115009,  0.92962483,\n",
       "         0.24710589, -0.5945483 , -0.98878735, -0.74811812, -1.00161476,\n",
       "        -0.56588287,  0.91778609, -0.71753199, -0.53156882,  0.19256794,\n",
       "        -0.94749172, -0.6670866 ,  0.86211283,  0.10855154, -0.77417211,\n",
       "         0.67014866, -0.96617629,  0.9582295 ,  0.366657  ,  0.83893061,\n",
       "        -0.18781842,  0.48634929,  0.62269642, -1.1966056 ,  0.66745794]])"
      ]
     },
     "execution_count": 36,
     "metadata": {},
     "output_type": "execute_result"
    }
   ],
   "source": [
    "x = np.array(scale(x))\n",
    "x"
   ]
  },
  {
   "cell_type": "code",
   "execution_count": 37,
   "metadata": {},
   "outputs": [],
   "source": [
    "# Model Parameters\n",
    "# w = -1 + 2 * np.random.rand(2, 1)\n",
    "# w"
   ]
  },
  {
   "cell_type": "code",
   "execution_count": 38,
   "metadata": {},
   "outputs": [
    {
     "data": {
      "image/png": "[encoded data removed]",
      "text/plain": [
       "<Figure size 432x288 with 1 Axes>"
      ]
     },
     "metadata": {
      "needs_background": "light"
     },
     "output_type": "display_data"
    }
   ],
   "source": [
    "plt.title(\"Valores Iniciales\")\n",
    "plt.grid(True)\n",
    "# plt.plot(x, '.r')\n",
    "# plt.plot(x[0],x[1],'.r')\n",
    "plt.plot(x[0][y == 0], x[1][y == 0], '*b')\n",
    "plt.plot(x[0][y == 1], x[1][y == 1], '.r')\n",
    "plt.plot([-2, 2],[(-w[0]/w[1])*(-2)-(b/w[1]),(-w[0]/w[1])*(2)-(b/w[0])],'-m')\n",
    "plt.xlim(-2, 2)\n",
    "plt.ylim(-2, 2)\n",
    "plt.xlabel(\"Peso\")\n",
    "plt.ylabel(\"Altura\")\n",
    "plt.show()"
   ]
  },
  {
   "cell_type": "code",
   "execution_count": 39,
   "metadata": {},
   "outputs": [
    {
     "name": "stdout",
     "output_type": "stream",
     "text": [
      "iteraciones 27 correctos 75\n"
     ]
    }
   ],
   "source": [
    "# w_res, b_res = perceptron(x.T,y,w,b,eta,1000, samples)\n",
    "w_res, b_res = perceptron(x,y,w,b,eta,epochs, samples)"
   ]
  },
  {
   "cell_type": "code",
   "execution_count": 40,
   "metadata": {},
   "outputs": [
    {
     "data": {
      "text/plain": [
       "array([[ 33.88540049],\n",
       "       [-23.98756681]])"
      ]
     },
     "execution_count": 40,
     "metadata": {},
     "output_type": "execute_result"
    }
   ],
   "source": [
    "w_res"
   ]
  },
  {
   "cell_type": "code",
   "execution_count": 41,
   "metadata": {},
   "outputs": [
    {
     "data": {
      "text/plain": [
       "32.643134209887194"
      ]
     },
     "execution_count": 41,
     "metadata": {},
     "output_type": "execute_result"
    }
   ],
   "source": [
    "b_res"
   ]
  },
  {
   "cell_type": "code",
   "execution_count": 42,
   "metadata": {},
   "outputs": [
    {
     "data": {
      "image/png": "[encoded data removed]",
      "text/plain": [
       "<Figure size 432x288 with 1 Axes>"
      ]
     },
     "metadata": {
      "needs_background": "light"
     },
     "output_type": "display_data"
    }
   ],
   "source": [
    "plt.title(\"Resultado\")\n",
    "plt.grid(True)\n",
    "# plt.plot(x,'.r')\n",
    "# plt.plot(x[0],x[1], '.r')\n",
    "plt.plot(x[0][y == 0], x[1][y == 0], '*b')\n",
    "plt.plot(x[0][y == 1], x[1][y == 1], '.r')\n",
    "plt.plot([-2,2],[(-w_res[0]/w_res[1])*(-2)-(b_res/w_res[1]),(-w_res[0]/w_res[1])*(2)-(b_res/w_res[1])],'-m')\n",
    "plt.xlim(-2, 2)\n",
    "plt.ylim(-2, 2)\n",
    "plt.xlabel(\"Peso\")\n",
    "plt.ylabel(\"Altura\")\n",
    "plt.show()"
   ]
  },
  {
   "cell_type": "markdown",
   "metadata": {},
   "source": [
    "### Segunda Prueba de datos escalados"
   ]
  },
  {
   "cell_type": "code",
   "execution_count": 55,
   "metadata": {},
   "outputs": [
    {
     "data": {
      "text/plain": [
       "array([[114.85929814, 117.70202386, 188.05834048, 136.34520394,\n",
       "         98.32961146, 149.45435924, 183.40185841, 107.94019855,\n",
       "        112.47106998, 193.41910885, 124.57450153,  44.49086095,\n",
       "        123.7256544 , 132.74924169,  86.13360577, 167.11792553,\n",
       "        147.64793089, 142.74569109,  73.20911451,  80.03174765,\n",
       "        148.94665173, 163.90673973, 160.32270129, 150.3058831 ,\n",
       "        195.81841547, 119.71703009, 193.28374673, 176.56687697,\n",
       "         64.11155202,  50.5454386 ,  71.69627293,  67.57940872,\n",
       "         65.78173225,  86.44277703, 142.1714963 , 107.69542258,\n",
       "        112.95245925,  54.96856283,  94.75446842, 193.37556362,\n",
       "        122.34070334,  78.50977376, 113.68339946, 153.62830061,\n",
       "         71.63912686, 178.28354571,  50.61258239,  65.35072889,\n",
       "        122.95877991, 149.12836709, 118.51052725, 178.63862821,\n",
       "         57.50511435, 138.30189941, 182.1817285 , 143.689647  ,\n",
       "        115.43934822, 147.71877238, 174.73331733,  88.17778092,\n",
       "        169.35100122,  74.59649641, 115.31562577,  43.72234202,\n",
       "        165.57749962, 142.51199934,  80.54854075, 122.45395081,\n",
       "        101.88055723, 134.44369021,  51.43154143, 105.0746592 ,\n",
       "         90.97285833, 154.95467048, 102.95663579, 171.74061661,\n",
       "        100.13727929,  98.34686672,  40.04084232, 168.07501415,\n",
       "        198.38881484, 149.9756285 , 184.79302286, 176.25659192,\n",
       "        110.96756289, 177.64857908, 199.17097726,  53.725675  ,\n",
       "         75.52021939,  50.68677364, 183.69548485,  79.14180514,\n",
       "         78.52392098,  74.35995879, 170.74542001, 101.9243262 ,\n",
       "         48.28327329, 132.87487017,  45.42093734, 146.86047387,\n",
       "        123.81980127, 199.06761736, 154.55048204, 191.30710631,\n",
       "        107.76604459, 160.78842919,  81.52350979,  82.32596816,\n",
       "        102.62463536,  63.60094979, 190.52203202,  47.69951065,\n",
       "         61.62793372, 150.57454144,  90.3955908 , 112.09802002,\n",
       "        159.52640034, 129.31140482, 185.89756878, 124.97803818],\n",
       "       [178.00387697, 167.74110306, 190.45029332, 128.30538524,\n",
       "        151.95245322, 170.88601013, 117.27253164, 163.94810321,\n",
       "        181.78945906, 177.98712822, 155.02376616, 219.3052281 ,\n",
       "        176.48632534, 134.86939959,  86.29862946, 133.77832549,\n",
       "        141.92230363,  91.81828597,  96.78237368, 170.95748892,\n",
       "         91.09348921, 113.0040238 , 174.03927417, 153.17403403,\n",
       "         91.95959638, 129.02105794, 156.59586569, 161.51244729,\n",
       "        116.16650566, 100.24418829, 127.27849053, 180.83049039,\n",
       "        162.65827687, 207.95361247, 164.72275997,  87.45919313,\n",
       "         83.08439606, 150.39012414, 140.26087239, 182.6310774 ,\n",
       "         83.88415193, 111.46339446,  99.93790408, 182.15012565,\n",
       "        149.09921423, 194.63440564, 122.52597033,  81.75030782,\n",
       "        217.22987217, 157.5352043 ,  99.72304217, 191.93804152,\n",
       "        177.00145512, 158.30338068, 202.16445426,  96.75566079,\n",
       "        123.5387804 , 182.15464682, 160.01839531,  96.35696378,\n",
       "        187.26169674, 192.62688512, 218.04738895, 208.56035931,\n",
       "        131.37966633, 107.33143765, 122.85693699, 152.03480051,\n",
       "        144.82435137, 107.07098919, 132.67894778, 118.87228061,\n",
       "        112.56301423,  85.40654544, 168.05783137, 118.75577489,\n",
       "        115.29554318, 194.94143698,  99.13503153, 119.96554054,\n",
       "        144.37466547, 160.32040618,  88.84730463,  89.06020884,\n",
       "        123.31575436, 216.44496627, 213.06411051, 123.7297772 ,\n",
       "        169.50794817, 119.17765311, 190.41449752, 121.87127548,\n",
       "        161.32141894, 198.12669333,  90.08852891,  86.60428946,\n",
       "        144.04477862, 192.84797898, 205.0567043 ,  85.15550751,\n",
       "         95.15887024, 109.96758732, 139.33801239, 183.45479826,\n",
       "         81.64862463,  96.73502598, 120.59888655, 211.94419629,\n",
       "        160.90908613, 160.18069552, 218.37568993,  87.90936221,\n",
       "        116.17606582, 125.39628127, 188.66944557, 172.07904062,\n",
       "        115.8033516 , 170.50371053, 175.20997122, 126.6012466 ]])"
      ]
     },
     "execution_count": 55,
     "metadata": {},
     "output_type": "execute_result"
    }
   ],
   "source": [
    "samples = 120\n",
    "epochs = 1000\n",
    "min_weigth = 40\n",
    "max_weigth = 200\n",
    "min_heigth = 80\n",
    "max_heigth = 220\n",
    "weigths = min_weigth + (max_weigth - min_weigth) * np.random.rand(samples)\n",
    "heigths = min_heigth + (max_heigth - min_heigth) * np.random.rand(samples)\n",
    "# x = np.column_stack((weigths, heigths))\n",
    "# x\n",
    "x = np.array([weigths, heigths])\n",
    "x"
   ]
  },
  {
   "cell_type": "code",
   "execution_count": 56,
   "metadata": {},
   "outputs": [
    {
     "data": {
      "text/plain": [
       "array([[-1.52263696e-01, -8.78499558e-02,  1.50636417e+00,\n",
       "         3.34588604e-01, -5.26812298e-01,  6.31630882e-01,\n",
       "         1.40085226e+00, -3.09044591e-01, -2.06378909e-01,\n",
       "         1.62783461e+00,  6.78745266e-02, -1.74675247e+00,\n",
       "         4.86403746e-02,  2.53107166e-01, -8.03163385e-01,\n",
       "         1.03187223e+00,  5.90698756e-01,  4.79618184e-01,\n",
       "        -1.09602133e+00, -9.41426285e-01,  6.20126663e-01,\n",
       "         9.59109498e-01,  8.77898243e-01,  6.50925687e-01,\n",
       "         1.68220085e+00, -4.21916331e-02,  1.62476742e+00,\n",
       "         1.24597741e+00, -1.30216434e+00, -1.60956090e+00,\n",
       "        -1.13030103e+00, -1.22358566e+00, -1.26431948e+00,\n",
       "        -7.96157828e-01,  4.66607420e-01, -3.14591006e-01,\n",
       "        -1.95471039e-01, -1.50933668e+00, -6.07821990e-01,\n",
       "         1.62684791e+00,  1.72585649e-02, -9.75912916e-01,\n",
       "        -1.78908557e-01,  7.26208834e-01, -1.13159591e+00,\n",
       "         1.28487566e+00, -1.60803948e+00, -1.27408565e+00,\n",
       "         3.12636528e-02,  6.24244178e-01, -6.95299584e-02,\n",
       "         1.29292153e+00, -1.45186058e+00,  3.78925654e-01,\n",
       "         1.37320516e+00,  5.01007420e-01, -1.39120256e-01,\n",
       "         5.92303964e-01,  1.20443051e+00, -7.56844119e-01,\n",
       "         1.08247182e+00, -1.06458444e+00, -1.41923701e-01,\n",
       "        -1.76416645e+00,  9.96967492e-01,  4.74322928e-01,\n",
       "        -9.29716195e-01,  1.98246559e-02, -4.46350895e-01,\n",
       "         2.91501925e-01, -1.58948257e+00, -3.73975269e-01,\n",
       "        -6.93510049e-01,  7.56263244e-01, -4.21967873e-01,\n",
       "         1.13661847e+00, -4.85852087e-01, -5.26421308e-01,\n",
       "        -1.84758609e+00,  1.05355904e+00,  1.74044391e+00,\n",
       "         6.43442399e-01,  1.43237486e+00,  1.23894661e+00,\n",
       "        -2.40447097e-01,  1.27048786e+00,  1.75816704e+00,\n",
       "        -1.53749945e+00, -1.04365367e+00, -1.60635837e+00,\n",
       "         1.40750558e+00, -9.61591624e-01, -9.75592352e-01,\n",
       "        -1.06994418e+00,  1.11406816e+00, -4.45359128e-01,\n",
       "        -1.66081964e+00,  2.55953801e-01, -1.72567773e+00,\n",
       "         5.72855652e-01,  5.07736625e-02,  1.75582500e+00,\n",
       "         7.47104678e-01,  1.57997843e+00, -3.12990772e-01,\n",
       "         8.88451240e-01, -9.07624228e-01, -8.89441205e-01,\n",
       "        -4.29490720e-01, -1.31373415e+00,  1.56218932e+00,\n",
       "        -1.67404720e+00, -1.35844101e+00,  6.57013255e-01,\n",
       "        -7.06590439e-01, -2.14831903e-01,  8.59854743e-01,\n",
       "         1.75208715e-01,  1.45740293e+00,  7.70183229e-02],\n",
       "       [ 7.63790894e-01,  5.31245190e-01,  1.04581607e+00,\n",
       "        -3.62334540e-01,  1.73487851e-01,  6.02506102e-01,\n",
       "        -6.12329593e-01,  4.45299049e-01,  8.49568956e-01,\n",
       "         7.63411382e-01,  2.43081183e-01,  1.69964428e+00,\n",
       "         7.29404469e-01, -2.13599574e-01, -1.31417180e+00,\n",
       "        -2.38322382e-01, -5.37867837e-02, -1.18910109e+00,\n",
       "        -1.07661910e+00,  6.04125751e-01, -1.20552437e+00,\n",
       "        -7.09050340e-01,  6.73956376e-01,  2.01167831e-01,\n",
       "        -1.18589912e+00, -3.46118007e-01,  2.78703618e-01,\n",
       "         3.90109163e-01, -6.37391198e-01, -9.98177330e-01,\n",
       "        -3.85603099e-01,  8.27839543e-01,  4.16072684e-01,\n",
       "         1.44242636e+00,  4.62852110e-01, -1.28787442e+00,\n",
       "        -1.38700359e+00,  1.38086807e-01, -9.14333984e-02,\n",
       "         8.68639309e-01, -1.36888180e+00, -7.43959687e-01,\n",
       "        -1.00511747e+00,  8.57741353e-01,  1.08835889e-01,\n",
       "         1.14062449e+00, -4.93291153e-01, -1.41723289e+00,\n",
       "         1.65261849e+00,  2.99988229e-01, -1.00998606e+00,\n",
       "         1.07952718e+00,  7.41076870e-01,  3.17394451e-01,\n",
       "         1.31124897e+00, -1.07722439e+00, -4.70341741e-01,\n",
       "         8.57843799e-01,  3.56255220e-01, -1.08625852e+00,\n",
       "         9.73565194e-01,  1.09513579e+00,  1.67114272e+00,\n",
       "         1.45617472e+00, -2.92673953e-01, -8.37586304e-01,\n",
       "        -4.85791731e-01,  1.75353771e-01,  1.19711431e-02,\n",
       "        -8.43487844e-01, -2.63233343e-01, -5.76080646e-01,\n",
       "        -7.19043241e-01, -1.33438566e+00,  5.38421984e-01,\n",
       "        -5.78720566e-01, -6.57126465e-01,  1.14758156e+00,\n",
       "        -1.02330988e+00, -5.51308308e-01,  1.78164414e-03,\n",
       "         3.63098528e-01, -1.25642099e+00, -1.25159677e+00,\n",
       "        -4.75395320e-01,  1.63483319e+00,  1.55822588e+00,\n",
       "        -4.66013916e-01,  5.71280394e-01, -5.69161165e-01,\n",
       "         1.04500497e+00, -5.08125980e-01,  3.85780624e-01,\n",
       "         1.21975675e+00, -1.22829591e+00, -1.30724580e+00,\n",
       "        -5.69331058e-03,  1.10014559e+00,  1.37678489e+00,\n",
       "        -1.34007397e+00, -1.11340630e+00, -7.77853401e-01,\n",
       "        -1.12344619e-01,  8.87304121e-01, -1.41953694e+00,\n",
       "        -1.07769195e+00, -5.36957228e-01,  1.53284958e+00,\n",
       "         3.76437514e-01,  3.59932804e-01,  1.67858174e+00,\n",
       "        -1.27767397e+00, -6.37174573e-01, -4.28252355e-01,\n",
       "         1.00546358e+00,  6.29539156e-01, -6.45619960e-01,\n",
       "         5.93843520e-01,  7.00483373e-01, -4.00948868e-01]])"
      ]
     },
     "execution_count": 56,
     "metadata": {},
     "output_type": "execute_result"
    }
   ],
   "source": [
    "x = np.array(scale(x))\n",
    "x"
   ]
  },
  {
   "cell_type": "code",
   "execution_count": 57,
   "metadata": {},
   "outputs": [
    {
     "data": {
      "text/plain": [
       "array([0, 0, 1, 1, 0, 1, 1, 0, 0, 1, 1, 0, 1, 1, 0, 1, 1, 1, 0, 0, 1, 1,\n",
       "       1, 1, 1, 0, 1, 1, 0, 0, 0, 0, 0, 0, 1, 0, 0, 0, 0, 1, 1, 0, 0, 1,\n",
       "       0, 1, 0, 0, 1, 1, 0, 1, 0, 1, 1, 1, 0, 1, 1, 0, 1, 0, 0, 0, 1, 1,\n",
       "       0, 1, 0, 1, 0, 0, 0, 1, 0, 1, 0, 0, 0, 1, 1, 1, 1, 1, 0, 1, 1, 0,\n",
       "       0, 0, 1, 0, 0, 0, 1, 0, 0, 1, 0, 1, 1, 1, 1, 1, 0, 1, 0, 0, 0, 0,\n",
       "       1, 0, 0, 1, 0, 0, 1, 1, 1, 1])"
      ]
     },
     "execution_count": 57,
     "metadata": {},
     "output_type": "execute_result"
    }
   ],
   "source": [
    "# y = np.array([1 if (person[0]/((person[1]/100)**2)) < 25 else -1 for person in x])\n",
    "y = np.array([1 if (person[0]/((person[1]/100)**2)) > 25 else 0 for person in x.T])\n",
    "y"
   ]
  },
  {
   "cell_type": "code",
   "execution_count": 58,
   "metadata": {},
   "outputs": [
    {
     "data": {
      "text/plain": [
       "array([[177.52234928],\n",
       "       [155.39792644]])"
      ]
     },
     "execution_count": 58,
     "metadata": {},
     "output_type": "execute_result"
    }
   ],
   "source": [
    "w_weigths = min_weigth + (max_weigth - min_weigth) * np.random.rand()\n",
    "w_heigths = min_heigth + (max_heigth - min_heigth) * np.random.rand()\n",
    "w = np.array([[w_weigths], [w_heigths]])\n",
    "w"
   ]
  },
  {
   "cell_type": "code",
   "execution_count": 64,
   "metadata": {},
   "outputs": [
    {
     "data": {
      "text/plain": [
       "126.30405742113649"
      ]
     },
     "execution_count": 64,
     "metadata": {},
     "output_type": "execute_result"
    }
   ],
   "source": [
    "b = 0 + (200 - 0) * np.random.rand()\n",
    "b"
   ]
  },
  {
   "cell_type": "code",
   "execution_count": 47,
   "metadata": {},
   "outputs": [
    {
     "data": {
      "text/plain": [
       "0.5"
      ]
     },
     "execution_count": 47,
     "metadata": {},
     "output_type": "execute_result"
    }
   ],
   "source": [
    "eta = 0.5\n",
    "eta"
   ]
  },
  {
   "cell_type": "code",
   "execution_count": 65,
   "metadata": {},
   "outputs": [
    {
     "data": {
      "image/png": "[encoded data removed]",
      "text/plain": [
       "<Figure size 432x288 with 1 Axes>"
      ]
     },
     "metadata": {
      "needs_background": "light"
     },
     "output_type": "display_data"
    }
   ],
   "source": [
    "plt.title(\"Valores Iniciales\")\n",
    "plt.grid(True)\n",
    "# plt.plot(x, '.r')\n",
    "# plt.plot(x[0],x[1],'.r')\n",
    "plt.plot(x[0][y == 0], x[1][y == 0], '*b')\n",
    "plt.plot(x[0][y == 1], x[1][y == 1], '.r')\n",
    "plt.plot([-2, 2],[(-w[0]/w[1])*(-2)-(b/w[1]),(-w[0]/w[1])*(2)-(b/w[0])],'-m')\n",
    "plt.xlim(-2, 2)\n",
    "plt.ylim(-2, 2)\n",
    "plt.xlabel(\"Peso\")\n",
    "plt.ylabel(\"Altura\")\n",
    "plt.show()"
   ]
  },
  {
   "cell_type": "code",
   "execution_count": 66,
   "metadata": {},
   "outputs": [
    {
     "name": "stdout",
     "output_type": "stream",
     "text": [
      "iteraciones 36 correctos 120\n"
     ]
    }
   ],
   "source": [
    "# w_res, b_res = perceptron(x.T,y,w,b,eta,1000, samples)\n",
    "w_res, b_res = perceptron(x,y,w,b,eta,epochs, samples)"
   ]
  },
  {
   "cell_type": "code",
   "execution_count": 67,
   "metadata": {},
   "outputs": [
    {
     "data": {
      "text/plain": [
       "array([[225.54091721],\n",
       "       [ 11.44102941]])"
      ]
     },
     "execution_count": 67,
     "metadata": {},
     "output_type": "execute_result"
    }
   ],
   "source": [
    "w_res"
   ]
  },
  {
   "cell_type": "code",
   "execution_count": 68,
   "metadata": {},
   "outputs": [
    {
     "data": {
      "text/plain": [
       "12.804057421136491"
      ]
     },
     "execution_count": 68,
     "metadata": {},
     "output_type": "execute_result"
    }
   ],
   "source": [
    "b_res"
   ]
  },
  {
   "cell_type": "code",
   "execution_count": 69,
   "metadata": {},
   "outputs": [
    {
     "data": {
      "image/png": "[encoded data removed]",
      "text/plain": [
       "<Figure size 432x288 with 1 Axes>"
      ]
     },
     "metadata": {
      "needs_background": "light"
     },
     "output_type": "display_data"
    }
   ],
   "source": [
    "plt.title(\"Resultado\")\n",
    "plt.grid(True)\n",
    "# plt.plot(x,'.r')\n",
    "# plt.plot(x[0],x[1], '.r')\n",
    "plt.plot(x[0][y == 0], x[1][y == 0], '*b')\n",
    "plt.plot(x[0][y == 1], x[1][y == 1], '.r')\n",
    "plt.plot([-2,2],[(-w_res[0]/w_res[1])*(-2)-(b_res/w_res[1]),(-w_res[0]/w_res[1])*(2)-(b_res/w_res[1])],'-m')\n",
    "plt.xlim(-2, 2)\n",
    "plt.ylim(-2, 2)\n",
    "plt.xlabel(\"Peso\")\n",
    "plt.ylabel(\"Altura\")\n",
    "plt.show()"
   ]
  }
 ],
 "metadata": {
  "kernelspec": {
   "display_name": "Python 3",
   "language": "python",
   "name": "python3"
  },
  "language_info": {
   "codemirror_mode": {
    "name": "ipython",
    "version": 3
   },
   "file_extension": ".py",
   "mimetype": "text/x-python",
   "name": "python",
   "nbconvert_exporter": "python",
   "pygments_lexer": "ipython3",
   "version": "3.7.3"
  }
 },
 "nbformat": 4,
 "nbformat_minor": 2
}
